{
 "cells": [
  {
   "cell_type": "code",
   "execution_count": 53,
   "metadata": {},
   "outputs": [],
   "source": [
    "#Install list of libraries\n",
    "# %pip install imbalanced-learn\n",
    "# %pip install numpy\n",
    "# %pip install pandas\n",
    "# %pip install matplotlib\n",
    "# %pip install scikit-learn\n",
    "# %pip install scipy\n",
    "# %pip install seaborn --upgrade\n",
    "# %pip install graphviz"
   ]
  },
  {
   "cell_type": "code",
   "execution_count": 54,
   "metadata": {},
   "outputs": [],
   "source": [
    "#In case you want to reload the modules automatically (imports aren't cached properly)\n",
    "# %load_ext autoreload\n",
    "# %autoreload 2"
   ]
  },
  {
   "cell_type": "markdown",
   "metadata": {},
   "source": [
    "# Setup"
   ]
  },
  {
   "cell_type": "code",
   "execution_count": 55,
   "metadata": {},
   "outputs": [],
   "source": [
    "from os import path, getcwd\n",
    "import numpy as np\n",
    "import matplotlib.pyplot as plt\n",
    "import pandas as pd \n",
    "import seaborn as sns\n",
    "from scipy.io import loadmat\n",
    "from sklearn.neighbors import KNeighborsClassifier\n",
    "from sklearn.preprocessing import normalize\n",
    "from sklearn import metrics\n",
    "from sklearn.linear_model import LogisticRegression\n",
    "from sklearn.ensemble import RandomForestClassifier\n",
    "from sklearn.model_selection import train_test_split\n",
    "from imblearn.over_sampling import SMOTE\n",
    "# Tree Visualisation\n",
    "from sklearn.tree import export_graphviz\n",
    "# from IPython.display import Image\n",
    "import graphviz\n",
    "\n",
    "subjects = [102, 104, 105, 107, 110, 111, 115, 116, 117, 118, 120, 126, 127, 130, 131, 132, 133, 135, 138, 141, 143, 144]\n",
    "col = ['1','2','3','Label', 'Frontal P3 mean', 'Frontal P3 STD', 'Posterior P3 mean', 'Posterior P3 STD', 'Frontal alpha mean', \n",
    "           'Posterior alpha mean', 'Alpha variability', 'Reaction time Mean', 'Reaction time variability', 'Accuracy', 'Frontal P3 log energy entropy', \n",
    "           'Frontal P3 Shannon entropy', 'Frontal P3 SURE entropy', 'Frontal P3 Skewness', 'Frontal P3 Kurtosis', 'Frontal alpha log energy entropy',\n",
    "           'Frontal alpha Shannon entropy', 'Frontal alpha SURE entropy', 'Frontal alpha Skewness', 'Frontal alpha Kurtosis', \n",
    "           'Posterior P3 log energy entropy', 'Posterior P3 Shannon entropy', 'Posterior P3 SURE entropy', 'Posterior P3 Skewness', 'Posterior P3 Kurtosis', \n",
    "           'Posterior alpha log energy entropy', 'Posterior alpha Shannon entropy', 'Posterior alpha SURE entropy', 'Posterior alpha Skewness',\n",
    "           'Posterior alpha Kurtosis'\n",
    "]\n",
    "cwd = getcwd()\n",
    "target_names = ['Task Unrelated Thought', 'Task Related Thought']"
   ]
  },
  {
   "cell_type": "markdown",
   "metadata": {},
   "source": [
    "# Data Collection\n",
    "Loading mat files into dataframe and removing unnecessary columns. NaN values are replaced with 0. \n",
    "\n",
    "Should any extra subjects be re-included in the future, their .mat file should be copied into 'AIRES_project/TR and TUT data', and their subject number added to the list of subjects."
   ]
  },
  {
   "cell_type": "code",
   "execution_count": 56,
   "metadata": {},
   "outputs": [
    {
     "name": "stdout",
     "output_type": "stream",
     "text": [
      "         1     2    3  Label  Frontal P3 mean  Frontal P3 STD  \\\n",
      "0    102.0   8.0  4.0    1.0        -4.473627        0.576930   \n",
      "1    102.0  25.0  5.0    1.0        -1.786179        0.747948   \n",
      "2    102.0  30.0  5.0    1.0         2.321102        0.274870   \n",
      "3    102.0  32.0  4.0    1.0        -2.569933        0.658272   \n",
      "4    102.0   1.0  5.0    2.0         2.814653        0.359229   \n",
      "..     ...   ...  ...    ...              ...             ...   \n",
      "682  144.0  30.0  3.0    2.0         0.375386        0.774057   \n",
      "683  144.0  31.0  3.0    2.0         0.482558        2.200203   \n",
      "684  144.0  32.0  3.0    2.0        -0.893606        0.333826   \n",
      "685  144.0  34.0  3.0    2.0        -1.408621        0.136761   \n",
      "686  144.0  35.0  1.0    2.0        -2.785345        0.359457   \n",
      "\n",
      "     Posterior P3 mean  Posterior P3 STD  Frontal alpha mean  \\\n",
      "0             0.511275          0.849015            0.424295   \n",
      "1             1.117962          0.297814            2.976309   \n",
      "2            -0.140859          0.650573            2.767729   \n",
      "3             3.660146          0.578845            2.296518   \n",
      "4            -0.632877          1.373549            0.210654   \n",
      "..                 ...               ...                 ...   \n",
      "682           0.542153          0.329355            1.038094   \n",
      "683           2.002887          0.625143            1.701821   \n",
      "684           1.202015          0.284383            0.552220   \n",
      "685           1.269248          0.434645            1.965711   \n",
      "686           1.970903          1.008486           -0.041753   \n",
      "\n",
      "     Posterior alpha mean  ...  Posterior P3 log energy entropy  \\\n",
      "0                0.808726  ...                       430.737730   \n",
      "1                0.566523  ...                      1296.575951   \n",
      "2                1.786037  ...                       639.845963   \n",
      "3                1.459877  ...                      1003.804951   \n",
      "4                1.077940  ...                      1008.713927   \n",
      "..                    ...  ...                              ...   \n",
      "682              6.396108  ...                       573.411518   \n",
      "683              0.436972  ...                       299.451815   \n",
      "684             -0.080414  ...                       738.061671   \n",
      "685              1.767423  ...                       627.918972   \n",
      "686              0.522943  ...                       225.961508   \n",
      "\n",
      "     Posterior P3 Shannon entropy  Posterior P3 SURE entropy  \\\n",
      "0                   -10113.270088                1639.553445   \n",
      "1                   -83442.863501                3571.418559   \n",
      "2                   -29155.941086                2204.764940   \n",
      "3                   -79300.197476                2907.469722   \n",
      "4                   -49815.505980                3225.876770   \n",
      "..                            ...                        ...   \n",
      "682                 -15322.798483                1960.272546   \n",
      "683                 -13735.689239                1182.620816   \n",
      "684                 -23637.905974                2246.625311   \n",
      "685                 -24235.718490                1977.291000   \n",
      "686                  -4337.061336                 886.277180   \n",
      "\n",
      "     Posterior P3 Skewness  Posterior P3 Kurtosis  \\\n",
      "0             3.787633e-02               1.579104   \n",
      "1            -3.797975e-01               1.799894   \n",
      "2             2.924107e-01               2.210251   \n",
      "3             2.870563e-01               1.947111   \n",
      "4            -1.471671e-03               2.004298   \n",
      "..                     ...                    ...   \n",
      "682           1.328441e-01               1.500000   \n",
      "683           2.484132e-01               1.500000   \n",
      "684          -2.851360e-02               1.500000   \n",
      "685          -2.724077e-02               1.500000   \n",
      "686           2.020410e-15               1.000000   \n",
      "\n",
      "     Posterior alpha log energy entropy  Posterior alpha Shannon entropy  \\\n",
      "0                           -297.459672                     -5623.498999   \n",
      "1                           -501.109486                     -3087.694750   \n",
      "2                             78.460782                    -13098.435016   \n",
      "3                           -228.720605                    -13368.382824   \n",
      "4                           -273.983052                     -6427.256752   \n",
      "..                                  ...                              ...   \n",
      "682                          509.986974                   -131277.721119   \n",
      "683                         -148.288320                     -1458.920524   \n",
      "684                         -302.398784                      -227.970082   \n",
      "685                            2.445568                     -9599.782293   \n",
      "686                         -269.005655                      -774.295699   \n",
      "\n",
      "     Posterior alpha SURE entropy  Posterior alpha Skewness  \\\n",
      "0                      332.433129              5.536577e-01   \n",
      "1                      182.813954              6.526878e-01   \n",
      "2                     1176.397646              1.534801e-01   \n",
      "3                      722.291725              7.743949e-01   \n",
      "4                      708.576557              6.844340e-01   \n",
      "..                            ...                       ...   \n",
      "682                   1257.581819              1.398445e-01   \n",
      "683                    261.001622              5.867177e-01   \n",
      "684                    -21.152291              1.997221e-01   \n",
      "685                    613.025586              1.882721e-01   \n",
      "686                     69.044153             -3.973755e-17   \n",
      "\n",
      "     Posterior alpha Kurtosis  \n",
      "0                    1.889419  \n",
      "1                    2.230943  \n",
      "2                    1.910599  \n",
      "3                    2.378043  \n",
      "4                    2.172997  \n",
      "..                        ...  \n",
      "682                  1.500000  \n",
      "683                  1.500000  \n",
      "684                  1.500000  \n",
      "685                  1.500000  \n",
      "686                  1.000000  \n",
      "\n",
      "[687 rows x 34 columns]\n"
     ]
    }
   ],
   "source": [
    "#Load all subject mat files, append TR and TUR structures to dataframe\n",
    "for a in subjects:\n",
    "    file = 'Feature_data_'+str(a)+'.mat'\n",
    "    #Absolute path to mat file:\n",
    "    #loc = os.path.join('C:/Users/pisis/OneDrive - University of Calgary/2024/AIRS/TR and TUT data',file)\n",
    "    loc = path.join(cwd, 'TR and TUT data', file)\n",
    "    subData = loadmat(loc)['data']\n",
    "    subData_TR = subData['TR'][0,0]\n",
    "    subData_TUR = subData['TUR'][0,0]\n",
    "    subDF_TR = pd.DataFrame(subData_TR, columns = col)\n",
    "    subDF_TUR = pd.DataFrame(subData_TUR, columns = col)\n",
    "    if a==subjects[0]:\n",
    "        totalDF = pd.concat([subDF_TR,subDF_TUR])\n",
    "    else:\n",
    "        totalDF = pd.concat([totalDF, subDF_TR])\n",
    "        totalDF = pd.concat([totalDF, subDF_TUR])\n",
    "\n",
    "#Show Data with NaN values:\n",
    "# print(totalDF[totalDF.isnull().any(axis=1)])\n",
    "# NOTE: Subject 109 has NaN values in the Reaction time Mean and Reaction time variability columns. Excluded from analysis.\n",
    "# totalDF.fillna(0, inplace=True)\n",
    "\n",
    "totalDF.reset_index(drop=True, inplace=True)\n",
    "print(totalDF)\n",
    "\n",
    "target_Data = totalDF.iloc[:,3:]\n",
    "# print(targetData)\n",
    "X = target_Data.iloc[:,1:]\n",
    "Y = target_Data.Label\n",
    "Y = Y - 1\n",
    "# Verify that Labels contain only 1 and 2:\n",
    "# print(targetData.Label.unique())\n",
    "\n"
   ]
  },
  {
   "cell_type": "markdown",
   "metadata": {},
   "source": [
    "# PreProcessing: Split and Normalize\n",
    "\n",
    "Using the built-in normalize, alternatives: StandardScaler, MinMaxScaler"
   ]
  },
  {
   "cell_type": "code",
   "execution_count": 57,
   "metadata": {},
   "outputs": [],
   "source": [
    "X_train, X_test, y_train, y_test = train_test_split(X, Y, test_size=0.2, random_state=42)\n",
    "\n",
    "\n",
    "normalized_X_train = normalize(X_train)\n"
   ]
  },
  {
   "cell_type": "markdown",
   "metadata": {},
   "source": [
    "# SMOTE Data Augmentation\n",
    "Data is oversampled to correct for inbalances."
   ]
  },
  {
   "cell_type": "code",
   "execution_count": 58,
   "metadata": {},
   "outputs": [
    {
     "name": "stdout",
     "output_type": "stream",
     "text": [
      "Before oversampling:  Label\n",
      "1.0    413\n",
      "0.0    136\n",
      "Name: count, dtype: int64\n",
      "After oversampling:  Label\n",
      "0.0    413\n",
      "1.0    413\n",
      "Name: count, dtype: int64\n"
     ]
    }
   ],
   "source": [
    "smote = SMOTE() #sampling_strategy='minority' ?\n",
    "X_smote, y_smote = smote.fit_resample(normalized_X_train, y_train)\n",
    "print(\"Before oversampling: \", y_train.value_counts())\n",
    "print(\"After oversampling: \", y_smote.value_counts())"
   ]
  },
  {
   "cell_type": "markdown",
   "metadata": {},
   "source": [
    "# Logistic Regression\n",
    "Binary classification that uses the sigmoid function. Prone to overfitting.\n",
    "\n",
    "*Learned many of the techniques below from __[DataCamp](https://www.datacamp.com/tutorial/understanding-logistic-regression-python)__*."
   ]
  },
  {
   "cell_type": "code",
   "execution_count": 72,
   "metadata": {},
   "outputs": [],
   "source": [
    "logreg = LogisticRegression(random_state = 32, max_iter=1100, solver='lbfgs')\n",
    "logreg.fit(X_train, y_train)\n",
    "log_Y_Pred = logreg.predict(X_test)"
   ]
  },
  {
   "cell_type": "markdown",
   "metadata": {},
   "source": []
  },
  {
   "cell_type": "code",
   "execution_count": 60,
   "metadata": {},
   "outputs": [
    {
     "name": "stdout",
     "output_type": "stream",
     "text": [
      "[[ 1 41]\n",
      " [ 0 96]]\n",
      "Sensitivity:  0.023809523809523808\n",
      "Specificity:  1.0\n",
      "Matthews Correlation Coefficient:  0.12916673674412532\n",
      "AUC:  0.5369543650793651\n",
      "Accuracy:  0.7028985507246377\n",
      "Balanced Accuracy:  0.5119047619047619\n",
      "                        precision    recall  f1-score   support\n",
      "\n",
      "Task Unrelated Thought       1.00      0.02      0.05        42\n",
      "  Task Related Thought       0.70      1.00      0.82        96\n",
      "\n",
      "              accuracy                           0.70       138\n",
      "             macro avg       0.85      0.51      0.44       138\n",
      "          weighted avg       0.79      0.70      0.59       138\n",
      "\n"
     ]
    }
   ],
   "source": [
    "cnf_matrix = metrics.confusion_matrix(y_test, log_Y_Pred)\n",
    "sensitivity_score = cnf_matrix[0,0]/(cnf_matrix[0,0]+cnf_matrix[0,1])\n",
    "specificity_score = cnf_matrix[1,1]/(cnf_matrix[1,0]+cnf_matrix[1,1])\n",
    "mcc = metrics.matthews_corrcoef(y_test, log_Y_Pred)\n",
    "accuracy = metrics.accuracy_score(y_test, log_Y_Pred)\n",
    "balanced_accuracy = metrics.balanced_accuracy_score(y_test, log_Y_Pred)\n",
    "y_pred_proba = logreg.predict_proba(X_test)[::,1]\n",
    "auc = metrics.roc_auc_score(y_test, y_pred_proba)\n",
    "print(cnf_matrix)\n",
    "print(\"Sensitivity: \", sensitivity_score)\n",
    "print(\"Specificity: \", specificity_score)\n",
    "print(\"Matthews Correlation Coefficient: \", mcc)\n",
    "print(\"AUC: \", auc)\n",
    "print(\"Accuracy: \", accuracy)\n",
    "print(\"Balanced Accuracy: \", balanced_accuracy)\n",
    "print(metrics.classification_report(y_test, log_Y_Pred, target_names=target_names))"
   ]
  },
  {
   "cell_type": "code",
   "execution_count": 61,
   "metadata": {},
   "outputs": [
    {
     "data": {
      "image/png": "[encoded data removed]",
      "text/plain": [
       "<Figure size 500x500 with 2 Axes>"
      ]
     },
     "metadata": {},
     "output_type": "display_data"
    }
   ],
   "source": [
    "class_names = ['TR', 'TUR'] #['Task Related Thought', 'Task Unrelated Thought']\n",
    "plt.figure(figsize=(5, 5))\n",
    "# tick_marks = np.arange(len(class_names))\n",
    "# plt.xticks(tick_marks, class_names)\n",
    "# plt.yticks(tick_marks, class_names)\n",
    "\n",
    "sns.heatmap(cnf_matrix, annot=True, cmap=\"Blues\", fmt='g', xticklabels=class_names, yticklabels=class_names)\n",
    "\n",
    "# plt.tight_layout()\n",
    "# plt.title('Confusion matrix', y=1.1)\n",
    "plt.ylabel('Actual label') \n",
    "plt.xlabel('Predicted label', loc='center')\n",
    "plt.show()"
   ]
  },
  {
   "cell_type": "code",
   "execution_count": 62,
   "metadata": {},
   "outputs": [
    {
     "data": {
      "image/png": "[encoded data removed]",
      "text/plain": [
       "<Figure size 640x480 with 1 Axes>"
      ]
     },
     "metadata": {},
     "output_type": "display_data"
    }
   ],
   "source": [
    "fpr, tpr, _ = metrics.roc_curve(y_test,  y_pred_proba)\n",
    "plt.plot(fpr,tpr,label=\"data 1, auc=\"+str(auc))\n",
    "plt.legend(loc=4)\n",
    "plt.show()"
   ]
  },
  {
   "cell_type": "markdown",
   "metadata": {},
   "source": [
    "# Random Forest\n",
    "Multiple decision trees are created using random subsets of data and features. The most popular result of all these trees becomes the prediction."
   ]
  },
  {
   "cell_type": "code",
   "execution_count": 76,
   "metadata": {},
   "outputs": [],
   "source": [
    "rf = RandomForestClassifier(n_estimators=500, random_state=42)\n",
    "rf.fit(X_train, y_train)\n",
    "RaFo_Y_Pred = rf.predict(X_test)"
   ]
  },
  {
   "cell_type": "code",
   "execution_count": 77,
   "metadata": {},
   "outputs": [
    {
     "name": "stdout",
     "output_type": "stream",
     "text": [
      "[[ 0 42]\n",
      " [ 2 94]]\n",
      "Sensitivity:  0.0\n",
      "Specificity:  0.9791666666666666\n",
      "Matthews Correlation Coefficient:  -0.0802111184899685\n",
      "AUC:  0.534970238095238\n",
      "Accuracy:  0.6811594202898551\n",
      "Balanced Accuracy:  0.4895833333333333\n",
      "                        precision    recall  f1-score   support\n",
      "\n",
      "Task Unrelated Thought       0.00      0.00      0.00        42\n",
      "  Task Related Thought       0.69      0.98      0.81        96\n",
      "\n",
      "              accuracy                           0.68       138\n",
      "             macro avg       0.35      0.49      0.41       138\n",
      "          weighted avg       0.48      0.68      0.56       138\n",
      "\n"
     ]
    }
   ],
   "source": [
    "cnf_matrix = metrics.confusion_matrix(y_test, RaFo_Y_Pred)\n",
    "sensitivity_score = cnf_matrix[0,0]/(cnf_matrix[0,0]+cnf_matrix[0,1])\n",
    "specificity_score = cnf_matrix[1,1]/(cnf_matrix[1,0]+cnf_matrix[1,1])\n",
    "mcc = metrics.matthews_corrcoef(y_test, RaFo_Y_Pred)\n",
    "accuracy = metrics.accuracy_score(y_test, RaFo_Y_Pred)\n",
    "balanced_accuracy = metrics.balanced_accuracy_score(y_test, RaFo_Y_Pred)\n",
    "auc = metrics.roc_auc_score(y_test, rf.predict_proba(X_test)[:,1])\n",
    "print(cnf_matrix)\n",
    "print(\"Sensitivity: \", sensitivity_score)\n",
    "print(\"Specificity: \", specificity_score)\n",
    "print(\"Matthews Correlation Coefficient: \", mcc)\n",
    "print(\"AUC: \", auc)\n",
    "print(\"Accuracy: \", accuracy)\n",
    "print(\"Balanced Accuracy: \", balanced_accuracy)\n",
    "print(metrics.classification_report(y_test, RaFo_Y_Pred, target_names=target_names))"
   ]
  },
  {
   "cell_type": "code",
   "execution_count": 65,
   "metadata": {},
   "outputs": [],
   "source": [
    "# From https://www.datacamp.com/tutorial/random-forests-classifier-python\n",
    "\n",
    "# for i in range(3):\n",
    "#     tree = rf.estimators_[i]\n",
    "#     dot_data = export_graphviz(tree,\n",
    "#                                feature_names=X_train.columns,  \n",
    "#                                filled=True,  \n",
    "#                                max_depth=2, \n",
    "#                                impurity=False, \n",
    "#                                proportion=True)\n",
    "#     graph = graphviz.Source(dot_data)\n",
    "#     display(graph)"
   ]
  },
  {
   "cell_type": "code",
   "execution_count": 66,
   "metadata": {},
   "outputs": [
    {
     "data": {
      "image/png": "[encoded data removed]",
      "text/plain": [
       "<Figure size 500x500 with 2 Axes>"
      ]
     },
     "metadata": {},
     "output_type": "display_data"
    }
   ],
   "source": [
    "class_names = ['TR', 'TUR'] #['Task Related Thought', 'Task Unrelated Thought']\n",
    "plt.figure(figsize=(5, 5))\n",
    "# tick_marks = np.arange(len(class_names))\n",
    "# plt.xticks(tick_marks, class_names)\n",
    "# plt.yticks(tick_marks, class_names)\n",
    "\n",
    "sns.heatmap(cnf_matrix, annot=True, cmap=\"Blues\", fmt='g', xticklabels=class_names, yticklabels=class_names)\n",
    "\n",
    "# plt.tight_layout()\n",
    "# plt.title('Confusion matrix', y=1.1)\n",
    "plt.ylabel('Actual label') \n",
    "plt.xlabel('Predicted label', loc='center')\n",
    "plt.show()"
   ]
  },
  {
   "cell_type": "markdown",
   "metadata": {},
   "source": [
    "# K-Nearest Neighbours"
   ]
  },
  {
   "cell_type": "code",
   "execution_count": 67,
   "metadata": {},
   "outputs": [],
   "source": [
    "model = KNeighborsClassifier(n_neighbors=5)\n",
    "model.fit(X_train, y_train)\n",
    "KNN_y_predict = model.predict(X_test)"
   ]
  },
  {
   "cell_type": "code",
   "execution_count": 68,
   "metadata": {},
   "outputs": [
    {
     "name": "stdout",
     "output_type": "stream",
     "text": [
      "[[ 4 38]\n",
      " [14 82]]\n",
      "Sensitivity:  0.09523809523809523\n",
      "Specificity:  0.8541666666666666\n",
      "Matthews Correlation Coefficient:  -0.06912625516718778\n",
      "AUC:  0.45895337301587297\n",
      "Accuracy:  0.6231884057971014\n",
      "Balanced Accuracy:  0.47470238095238093\n",
      "                        precision    recall  f1-score   support\n",
      "\n",
      "Task Unrelated Thought       0.22      0.10      0.13        42\n",
      "  Task Related Thought       0.68      0.85      0.76        96\n",
      "\n",
      "              accuracy                           0.62       138\n",
      "             macro avg       0.45      0.47      0.45       138\n",
      "          weighted avg       0.54      0.62      0.57       138\n",
      "\n"
     ]
    }
   ],
   "source": [
    "cnf_matrix = metrics.confusion_matrix(y_test, KNN_y_predict)\n",
    "sensitivity_score = cnf_matrix[0,0]/(cnf_matrix[0,0]+cnf_matrix[0,1])\n",
    "specificity_score = cnf_matrix[1,1]/(cnf_matrix[1,0]+cnf_matrix[1,1])\n",
    "mcc = metrics.matthews_corrcoef(y_test, KNN_y_predict)\n",
    "accuracy = metrics.accuracy_score(y_test, KNN_y_predict)\n",
    "balanced_accuracy = metrics.balanced_accuracy_score(y_test, KNN_y_predict)\n",
    "auc = metrics.roc_auc_score(y_test, model.predict_proba(X_test)[:,1])\n",
    "print(cnf_matrix)\n",
    "print(\"Sensitivity: \", sensitivity_score)\n",
    "print(\"Specificity: \", specificity_score)\n",
    "print(\"Matthews Correlation Coefficient: \", mcc)\n",
    "print(\"AUC: \", auc)\n",
    "print(\"Accuracy: \", accuracy)\n",
    "print(\"Balanced Accuracy: \", balanced_accuracy)\n",
    "print(metrics.classification_report(y_test, KNN_y_predict, target_names=target_names))"
   ]
  }
 ],
 "metadata": {
  "kernelspec": {
   "display_name": "base",
   "language": "python",
   "name": "python3"
  },
  "language_info": {
   "codemirror_mode": {
    "name": "ipython",
    "version": 3
   },
   "file_extension": ".py",
   "mimetype": "text/x-python",
   "name": "python",
   "nbconvert_exporter": "python",
   "pygments_lexer": "ipython3",
   "version": "3.11.7"
  }
 },
 "nbformat": 4,
 "nbformat_minor": 2
}
