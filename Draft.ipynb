{
 "cells": [
  {
   "cell_type": "code",
   "execution_count": 1,
   "metadata": {},
   "outputs": [
    {
     "name": "stdout",
     "output_type": "stream",
     "text": [
      "Requirement already satisfied: imbalanced-learn in c:\\users\\pisis\\anaconda3\\lib\\site-packages (0.11.0)\n",
      "Requirement already satisfied: numpy>=1.17.3 in c:\\users\\pisis\\anaconda3\\lib\\site-packages (from imbalanced-learn) (1.26.4)\n",
      "Requirement already satisfied: scipy>=1.5.0 in c:\\users\\pisis\\anaconda3\\lib\\site-packages (from imbalanced-learn) (1.11.4)\n",
      "Requirement already satisfied: scikit-learn>=1.0.2 in c:\\users\\pisis\\anaconda3\\lib\\site-packages (from imbalanced-learn) (1.2.2)\n",
      "Requirement already satisfied: joblib>=1.1.1 in c:\\users\\pisis\\anaconda3\\lib\\site-packages (from imbalanced-learn) (1.2.0)\n",
      "Requirement already satisfied: threadpoolctl>=2.0.0 in c:\\users\\pisis\\anaconda3\\lib\\site-packages (from imbalanced-learn) (2.2.0)\n",
      "Note: you may need to restart the kernel to use updated packages.\n"
     ]
    }
   ],
   "source": [
    "%pip install imbalanced-learn"
   ]
  },
  {
   "cell_type": "code",
   "execution_count": 164,
   "metadata": {},
   "outputs": [
    {
     "name": "stdout",
     "output_type": "stream",
     "text": [
      "        1     2    3  Label  Frontal P3 mean  Frontal P3 STD  \\\n",
      "0   102.0   8.0  4.0    1.0        -4.473627        0.576930   \n",
      "1   102.0  25.0  5.0    1.0        -1.786179        0.747948   \n",
      "2   102.0  30.0  5.0    1.0         2.321102        0.274870   \n",
      "3   102.0  32.0  4.0    1.0        -2.569933        0.658272   \n",
      "0   102.0   1.0  5.0    2.0         2.814653        0.359229   \n",
      "..    ...   ...  ...    ...              ...             ...   \n",
      "19  144.0  30.0  3.0    2.0         0.375386        0.774057   \n",
      "20  144.0  31.0  3.0    2.0         0.482558        2.200203   \n",
      "21  144.0  32.0  3.0    2.0        -0.893606        0.333826   \n",
      "22  144.0  34.0  3.0    2.0        -1.408621        0.136761   \n",
      "23  144.0  35.0  1.0    2.0        -2.785345        0.359457   \n",
      "\n",
      "    Posterior P3 mean  Posterior P3 STD  Frontal alpha mean  \\\n",
      "0            0.511275          0.849015            0.424295   \n",
      "1            1.117962          0.297814            2.976309   \n",
      "2           -0.140859          0.650573            2.767729   \n",
      "3            3.660146          0.578845            2.296518   \n",
      "0           -0.632877          1.373549            0.210654   \n",
      "..                ...               ...                 ...   \n",
      "19           0.542153          0.329355            1.038094   \n",
      "20           2.002887          0.625143            1.701821   \n",
      "21           1.202015          0.284383            0.552220   \n",
      "22           1.269248          0.434645            1.965711   \n",
      "23           1.970903          1.008486           -0.041753   \n",
      "\n",
      "    Posterior alpha mean  ...  Posterior P3 log energy entropy  \\\n",
      "0               0.808726  ...                       430.737730   \n",
      "1               0.566523  ...                      1296.575951   \n",
      "2               1.786037  ...                       639.845963   \n",
      "3               1.459877  ...                      1003.804951   \n",
      "0               1.077940  ...                      1008.713927   \n",
      "..                   ...  ...                              ...   \n",
      "19              6.396108  ...                       573.411518   \n",
      "20              0.436972  ...                       299.451815   \n",
      "21             -0.080414  ...                       738.061671   \n",
      "22              1.767423  ...                       627.918972   \n",
      "23              0.522943  ...                       225.961508   \n",
      "\n",
      "    Posterior P3 Shannon entropy  Posterior P3 SURE entropy  \\\n",
      "0                  -10113.270088                1639.553445   \n",
      "1                  -83442.863501                3571.418559   \n",
      "2                  -29155.941086                2204.764940   \n",
      "3                  -79300.197476                2907.469722   \n",
      "0                  -49815.505980                3225.876770   \n",
      "..                           ...                        ...   \n",
      "19                 -15322.798483                1960.272546   \n",
      "20                 -13735.689239                1182.620816   \n",
      "21                 -23637.905974                2246.625311   \n",
      "22                 -24235.718490                1977.291000   \n",
      "23                  -4337.061336                 886.277180   \n",
      "\n",
      "    Posterior P3 Skewness  Posterior P3 Kurtosis  \\\n",
      "0            3.787633e-02               1.579104   \n",
      "1           -3.797975e-01               1.799894   \n",
      "2            2.924107e-01               2.210251   \n",
      "3            2.870563e-01               1.947111   \n",
      "0           -1.471671e-03               2.004298   \n",
      "..                    ...                    ...   \n",
      "19           1.328441e-01               1.500000   \n",
      "20           2.484132e-01               1.500000   \n",
      "21          -2.851360e-02               1.500000   \n",
      "22          -2.724077e-02               1.500000   \n",
      "23           2.020410e-15               1.000000   \n",
      "\n",
      "    Posterior alpha log energy entropy  Posterior alpha Shannon entropy  \\\n",
      "0                          -297.459672                     -5623.498999   \n",
      "1                          -501.109486                     -3087.694750   \n",
      "2                            78.460782                    -13098.435016   \n",
      "3                          -228.720605                    -13368.382824   \n",
      "0                          -273.983052                     -6427.256752   \n",
      "..                                 ...                              ...   \n",
      "19                          509.986974                   -131277.721119   \n",
      "20                         -148.288320                     -1458.920524   \n",
      "21                         -302.398784                      -227.970082   \n",
      "22                            2.445568                     -9599.782293   \n",
      "23                         -269.005655                      -774.295699   \n",
      "\n",
      "    Posterior alpha SURE entropy  Posterior alpha Skewness  \\\n",
      "0                     332.433129              5.536577e-01   \n",
      "1                     182.813954              6.526878e-01   \n",
      "2                    1176.397646              1.534801e-01   \n",
      "3                     722.291725              7.743949e-01   \n",
      "0                     708.576557              6.844340e-01   \n",
      "..                           ...                       ...   \n",
      "19                   1257.581819              1.398445e-01   \n",
      "20                    261.001622              5.867177e-01   \n",
      "21                    -21.152291              1.997221e-01   \n",
      "22                    613.025586              1.882721e-01   \n",
      "23                     69.044153             -3.973755e-17   \n",
      "\n",
      "    Posterior alpha Kurtosis  \n",
      "0                   1.889419  \n",
      "1                   2.230943  \n",
      "2                   1.910599  \n",
      "3                   2.378043  \n",
      "0                   2.172997  \n",
      "..                       ...  \n",
      "19                  1.500000  \n",
      "20                  1.500000  \n",
      "21                  1.500000  \n",
      "22                  1.500000  \n",
      "23                  1.000000  \n",
      "\n",
      "[708 rows x 34 columns]\n"
     ]
    }
   ],
   "source": [
    "import os.path\n",
    "import numpy as np\n",
    "#import matplotlib.pyplot as plt\n",
    "import pandas as pd\n",
    "from scipy.io import loadmat\n",
    "\n",
    "subjects = [102, 104, 105, 107, 109, 110, 111, 115, 116, 117, 118, 120, 126, 127, 130, 131, 132, 133, 135, 138, 141, 143, 144]\n",
    "col = ['1','2','3','Label', 'Frontal P3 mean', 'Frontal P3 STD', 'Posterior P3 mean', 'Posterior P3 STD', 'Frontal alpha mean', \n",
    "           'Posterior alpha mean', 'Alpha variability', 'Reaction time Mean', 'Reaction time variability', 'Accuracy', 'Frontal P3 log energy entropy', \n",
    "           'Frontal P3 Shannon entropy', 'Frontal P3 SURE entropy', 'Frontal P3 Skewness', 'Frontal P3 Kurtosis', 'Frontal alpha log energy entropy',\n",
    "           'Frontal alpha Shannon entropy', 'Frontal alpha SURE entropy', 'Frontal alpha Skewness', 'Frontal alpha Kurtosis', \n",
    "           'Posterior P3 log energy entropy', 'Posterior P3 Shannon entropy', 'Posterior P3 SURE entropy', 'Posterior P3 Skewness', 'Posterior P3 Kurtosis', \n",
    "           'Posterior alpha log energy entropy', 'Posterior alpha Shannon entropy', 'Posterior alpha SURE entropy', 'Posterior alpha Skewness',\n",
    "           'Posterior alpha Kurtosis'\n",
    "]\n",
    "\n",
    "#Load all subject mat files, append TR and TUR structures to dataframe\n",
    "for a in subjects:\n",
    "    file = 'Feature_data_'+str(a)\n",
    "    loc = os.path.join('C:/Users/pisis/OneDrive - University of Calgary/2024/AIRS/TR and TUT data',file)\n",
    "    subData = loadmat(loc)['data']\n",
    "    subDataTR = subData['TR'][0,0]\n",
    "    subDataTUR = subData['TUR'][0,0]\n",
    "    subDFTR = pd.DataFrame(subDataTR, columns = col)\n",
    "    subDFTUR = pd.DataFrame(subDataTUR, columns = col)\n",
    "    if a==subjects[0]:\n",
    "        totalDF = pd.concat([subDFTR,subDFTUR])\n",
    "    else:\n",
    "        totalDF = pd.concat([totalDF, subDFTR])\n",
    "        totalDF = pd.concat([totalDF, subDFTUR])\n",
    "print(totalDF)"
   ]
  },
  {
   "cell_type": "code",
   "execution_count": 169,
   "metadata": {},
   "outputs": [
    {
     "name": "stdout",
     "output_type": "stream",
     "text": [
      "[1. 2.]\n"
     ]
    }
   ],
   "source": [
    "cleanData = totalDF.iloc[:,3:]\n",
    "# print(cleanData)\n",
    "# print(cleanData.Label.unique())"
   ]
  },
  {
   "cell_type": "code",
   "execution_count": null,
   "metadata": {},
   "outputs": [],
   "source": [
    "from imblearn.over_sampling import SMOTE"
   ]
  }
 ],
 "metadata": {
  "kernelspec": {
   "display_name": "base",
   "language": "python",
   "name": "python3"
  },
  "language_info": {
   "codemirror_mode": {
    "name": "ipython",
    "version": 3
   },
   "file_extension": ".py",
   "mimetype": "text/x-python",
   "name": "python",
   "nbconvert_exporter": "python",
   "pygments_lexer": "ipython3",
   "version": "3.11.7"
  }
 },
 "nbformat": 4,
 "nbformat_minor": 2
}
